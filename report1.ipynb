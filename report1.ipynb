{
 "cells": [
  {
   "cell_type": "markdown",
   "metadata": {},
   "source": [
    "# 機械学習 第1回　レポート課題\n",
    "\n"
   ]
  },
  {
   "cell_type": "markdown",
   "metadata": {},
   "source": [
    "## はじめに\n",
    "\n",
    "本レポートでは, 以下のデータセットと手法を用いて機械学習を行う.\n",
    "\n",
    "- データセット\n",
    "    - scikit-learnのデータセットの中にあるボストンの住宅価格のデータセットを利用.\n",
    "    - data: 506個, 属性13種類. MEDVが教師データ.\n",
    "- 特徴\n",
    "    - CRIM     per capita crime rate by town\n",
    "    - ZN       proportion of residential land zoned for lots over 25,000 sq.ft.\n",
    "    - INDUS    proportion of non-retail business acres per town\n",
    "    - CHAS     Charles River dummy variable (= 1 if tract bounds river; 0 otherwise)\n",
    "    - NOX      nitric oxides concentration (parts per 10 million)\n",
    "    - RM       average number of rooms per dwelling\n",
    "    - AGE      proportion of owner-occupied units built prior to 1940\n",
    "    - DIS      weighted distances to five Boston employment centres\n",
    "    - RAD      index of accessibility to radial highways\n",
    "    - TAX      full-value property-tax rate per \\$10,000\n",
    "    - PTRATIO  pupil-teacher ratio by town\n",
    "    - B        1000(Bk-0.63)^2 where Bk is the proportion of blacks by town\n",
    "    - LSTAT    % lower status of the population\n",
    "    - MEDV     Median value of owner-occupied homes in $1000's\n",
    "    "
   ]
  },
  {
   "cell_type": "code",
   "execution_count": 28,
   "metadata": {},
   "outputs": [],
   "source": [
    "%matplotlib inline\n",
    "import numpy as np\n",
    "import pandas as pd\n",
    "import matplotlib.pyplot as plt\n",
    "\n",
    "from sklearn.model_selection import train_test_split\n",
    "from sklearn.metrics import mean_squared_error\n",
    "from sklearn.metrics import mean_absolute_error"
   ]
  },
  {
   "cell_type": "code",
   "execution_count": 29,
   "metadata": {},
   "outputs": [
    {
     "name": "stdout",
     "output_type": "stream",
     "text": [
      "MAE = 6.07,  RMSE = 8.57,  score = 0.13\n",
      "Coef =  [0.03253268]\n",
      "Intercept = 10.913802448762988\n"
     ]
    }
   ],
   "source": [
    "from sklearn.linear_model import LinearRegression\n",
    "from sklearn import datasets\n",
    "\n",
    "# データセットロード\n",
    "boston = datasets.load_boston()\n",
    "\n",
    "# print(boston.DESCR)\n",
    "\n",
    "# 特徴量\n",
    "X = boston.data[:, [5]] # B\n",
    "\n",
    "# 目的変数\n",
    "Y = boston.target\n",
    "\n",
    "# トレーニング・テストデータ分割\n",
    "X_train, X_test, Y_train, Y_test = train_test_split(X, Y, random_state=None, test_size=0.4)\n",
    "\n",
    "# LinearRegression\n",
    "lr = LinearRegression()\n",
    "lr.fit(X_train, Y_train)\n",
    "\n",
    "# 予測　\n",
    "Y_pred = lr.predict(X_test)\n",
    "\n",
    "#\n",
    "# 評価\n",
    "#\n",
    "# 平均絶対誤差(MAE)\n",
    "mae = mean_absolute_error(Y_test, Y_pred)\n",
    "# 平方根平均二乗誤差（RMSE）\n",
    "rmse = np.sqrt(mean_squared_error(Y_test, Y_pred))  \n",
    "# スコア\n",
    "score = lr.score(X_test, Y_test)\n",
    "\n",
    "print(\"MAE = %.2f,  RMSE = %.2f,  score = %.2f\" % (mae, rmse, score))\n",
    "print(\"Coef = \", lr.coef_)\n",
    "print(\"Intercept =\", lr.intercept_)"
   ]
  },
  {
   "cell_type": "code",
   "execution_count": 30,
   "metadata": {},
   "outputs": [
    {
     "data": {
      "text/plain": [
       "[<matplotlib.lines.Line2D at 0x7f1e9ee2ea58>]"
      ]
     },
     "execution_count": 30,
     "metadata": {},
     "output_type": "execute_result"
    },
    {
     "data": {
      "image/png": "[encoded data removed]",
      "text/plain": [
       "<Figure size 432x288 with 1 Axes>"
      ]
     },
     "metadata": {
      "needs_background": "light"
     },
     "output_type": "display_data"
    }
   ],
   "source": [
    "plt.xlabel(\"RM\")\n",
    "plt.ylabel(\"Target\")\n",
    "plt.plot(X_test, Y_test, \"o\")\n",
    "plt.plot(X_test, Y_pred, \"r\")"
   ]
  },
  {
   "cell_type": "code",
   "execution_count": null,
   "metadata": {},
   "outputs": [],
   "source": []
  }
 ],
 "metadata": {
  "kernelspec": {
   "display_name": "Python 3",
   "language": "python",
   "name": "python3"
  },
  "language_info": {
   "codemirror_mode": {
    "name": "ipython",
    "version": 3
   },
   "file_extension": ".py",
   "mimetype": "text/x-python",
   "name": "python",
   "nbconvert_exporter": "python",
   "pygments_lexer": "ipython3",
   "version": "3.7.3"
  }
 },
 "nbformat": 4,
 "nbformat_minor": 2
}
