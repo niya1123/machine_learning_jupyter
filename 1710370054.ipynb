{
 "cells": [
  {
   "cell_type": "markdown",
   "metadata": {},
   "source": [
    "# 機械学習 第1回　レポート課題\n",
    "\n"
   ]
  },
  {
   "cell_type": "markdown",
   "metadata": {},
   "source": [
    "## はじめに\n",
    "\n",
    "本レポートでは, 以下のデータセットと手法を用いて機械学習を行う.\n",
    "\n",
    "- データセット:\n",
    "    https://www.kaggle.com/c/titanic/data ここからDLしてきたtrain.csvをデータセットtest.csvをテストデータとする.\n",
    "    \n",
    "    これらのデータセットは, タイタニック号での乗客情報とその生存, 非生存を表したデータである.\n",
    "    \n",
    "    train.csvのデータ数は891個, test.csvでは418個なっている.\n",
    "    \n",
    "- 特徴:\n",
    "    元のデータの特徴は以下のようになっている.\n",
    "    <table>\n",
    "    <tbody>\n",
    "    <tr><th><b>Variable</b></th><th><b>Definition</b></th><th><b>Key</b></th></tr>\n",
    "    <tr>\n",
    "    <td>survival</td>\n",
    "    <td>Survival</td>\n",
    "    <td>0 = No, 1 = Yes</td>\n",
    "    </tr>\n",
    "    <tr>\n",
    "    <td>pclass</td>\n",
    "    <td>Ticket class</td>\n",
    "    <td>1 = 1st, 2 = 2nd, 3 = 3rd</td>\n",
    "    </tr>\n",
    "    <tr>\n",
    "    <td>sex</td>\n",
    "    <td>Sex</td>\n",
    "    <td></td>\n",
    "    </tr>\n",
    "    <tr>\n",
    "    <td>Age</td>\n",
    "    <td>Age in years</td>\n",
    "    <td></td>\n",
    "    </tr>\n",
    "    <tr>\n",
    "    <td>sibsp</td>\n",
    "    <td># of siblings / spouses aboard the Titanic</td>\n",
    "    <td></td>\n",
    "    </tr>\n",
    "    <tr>\n",
    "    <td>parch</td>\n",
    "    <td># of parents / children aboard the Titanic</td>\n",
    "    <td></td>\n",
    "    </tr>\n",
    "    <tr>\n",
    "    <td>ticket</td>\n",
    "    <td>Ticket number</td>\n",
    "    <td></td>\n",
    "    </tr>\n",
    "    <tr>\n",
    "    <td>fare</td>\n",
    "    <td>Passenger fare</td>\n",
    "    <td></td>\n",
    "    </tr>\n",
    "    <tr>\n",
    "    <td>cabin</td>\n",
    "    <td>Cabin number</td>\n",
    "    <td></td>\n",
    "    </tr>\n",
    "    <tr>\n",
    "    <td>embarked</td>\n",
    "    <td>Port of Embarkation</td>\n",
    "    <td>C = Cherbourg, Q = Queenstown, S = Southampton</td>\n",
    "    </tr>\n",
    "    <tr>\n",
    "    <td>PassengerId</td>\n",
    "    <td>passenger id</td>\n",
    "    </tr>\n",
    "    <tr>\n",
    "    <td>Name</td>\n",
    "    <td>Passenger name</td>\n",
    "    </tr>\n",
    "    </tbody>\n",
    "    </table>\n",
    "    \n",
    "    \n",
    "    "
   ]
  },
  {
   "cell_type": "markdown",
   "metadata": {},
   "source": [
    "## データの前処理\n",
    "\n",
    "この節では, データセットの前処理について述べる. \n",
    "\n",
    "### 欠損\n",
    "今回のデータでは以下のような欠損があります. \n",
    "- train.csvの欠損の数\n",
    "\n",
    "欠損がある属性 | 欠損の個数\n",
    "--- | ---\n",
    "Age | 177\n",
    " Cabin |  687\n",
    "\n",
    "- test.csvの欠損の数\n",
    "\n",
    "欠損がある属性 | 欠損の個数\n",
    "--- | ---\n",
    "Age | 86\n",
    "Fare | 1\n",
    " Cabin |  327\n",
    " \n",
    "これらは, 学習する際邪魔になるので, 削除もしくは適当な値で埋めます.\n",
    "\n",
    "\n",
    "\n",
    "### 特徴の変更と追加と削除\n",
    "\n",
    "学習のために特徴を追加または削除します.\n",
    "\n",
    "- 変更する特徴\n",
    "    - Sexの値をmaleを0にfemaleを1に変更.\n",
    "   \n",
    "- 削除する特徴\n",
    "    - Ticket\n",
    "    - Cabin\n",
    "    - Embarked\n",
    "    - Name\n",
    "\n",
    "- 追加する特徴\n",
    "    - FamillySize: 家族の人数\n",
    "    - IsAlone: 独身かどうか\n",
    "    - HonorificTitle: 敬称\n",
    "    - IsChild: 子供かどうか\n",
    "\n",
    "## コード\n",
    "この節以降は, コードについて記載する."
   ]
  },
  {
   "cell_type": "code",
   "execution_count": 1,
   "metadata": {},
   "outputs": [
    {
     "name": "stdout",
     "output_type": "stream",
     "text": [
      "<class 'pandas.core.frame.DataFrame'>\n",
      "RangeIndex: 891 entries, 0 to 890\n",
      "Data columns (total 12 columns):\n",
      "PassengerId       891 non-null int64\n",
      "Survived          891 non-null int64\n",
      "Pclass            891 non-null int64\n",
      "Sex               891 non-null int64\n",
      "Age               891 non-null float64\n",
      "SibSp             891 non-null int64\n",
      "Parch             891 non-null int64\n",
      "Fare              891 non-null float64\n",
      "FamilySize        891 non-null int64\n",
      "IsAlone           891 non-null int64\n",
      "HonorificTitle    891 non-null float64\n",
      "IsChild           891 non-null int64\n",
      "dtypes: float64(3), int64(9)\n",
      "memory usage: 83.7 KB\n"
     ]
    }
   ],
   "source": [
    "# このセルではデータの前処理を行う\n",
    "import pandas as pd \n",
    "import numpy as np\n",
    "\"\"\"\n",
    "それぞれのデータのsexの値を(male=0, female=1)のように置き換える.\n",
    "\"\"\"\n",
    "train= pd.read_csv(\"train.csv\").replace(\"male\",0).replace(\"female\",1)\n",
    "test= pd.read_csv(\"test.csv\").replace(\"male\",0).replace(\"female\",1)\n",
    "\n",
    "\"\"\"\n",
    "今回使わないデータを削除.\n",
    "\"\"\"\n",
    "del(train[\"Ticket\"])\n",
    "del(train[\"Cabin\"])\n",
    "del(train[\"Embarked\"])\n",
    "del(test[\"Ticket\"])\n",
    "del(test[\"Cabin\"])\n",
    "del(test[\"Embarked\"])\n",
    "\n",
    "\"\"\"\n",
    "家族の人数(FamillySize)と独身(isAlone)であるかの特徴を追加.\n",
    "\"\"\"\n",
    "train[\"FamilySize\"] = train[\"SibSp\"] + train[\"Parch\"] + 1\n",
    "for t in [train]:\n",
    "    t['IsAlone'] = 0\n",
    "    t.loc[train['FamilySize'] == 1, 'IsAlone'] = 1\n",
    "    \n",
    "test[\"FamilySize\"] = test[\"SibSp\"] + test[\"Parch\"] + 1\n",
    "for t in [test]:\n",
    "    t['IsAlone'] = 0\n",
    "    t.loc[test['FamilySize'] == 1, 'IsAlone'] = 1\n",
    "\n",
    "\"\"\"\n",
    "欠損値をそれぞれの方法で埋める.\n",
    "\"\"\"\n",
    "# 名前の敬称を使って, 新たに特徴を加え名前の特徴を消す.\n",
    "for t in [train]: \n",
    "        t['HonorificTitle'] = train.Name.str.extract(' ([A-Za-z]+).', expand=False) \n",
    "for t in [train]: \n",
    "        t['HonorificTitle'] = train['HonorificTitle'].replace(['Lady', 'Countess','Capt', 'Col','Don', 'Dr', 'Major', 'Rev', 'Sir', 'Jonkheer', 'Dona'], 'Rare')\n",
    "        t['HonorificTitle'] = train['HonorificTitle'].replace('Mlle', 'Miss')\n",
    "        t['HonorificTitle'] = train['HonorificTitle'].replace('Ms', 'Miss')\n",
    "        t['HonorificTitle'] = train['HonorificTitle'].replace('Mme', 'Mrs')\n",
    "        del train['Name']\n",
    "HonorificTitle_mapping = {\"Mr\": 1, \"Miss\": 2, \"Mrs\": 3, \"Master\": 4, \"Rare\": 5} \n",
    "for t in [train]: \n",
    "        t['HonorificTitle'] = train['HonorificTitle'].map(HonorificTitle_mapping) \n",
    "        t['HonorificTitle'] = train['HonorificTitle'].fillna(0)\n",
    "\n",
    "# 敬称からその敬称の年齢の平均を求めて, それを利用して欠損値を埋める.\n",
    "for i in range(0,6):\n",
    "    train['Age'].fillna(train[train['HonorificTitle'] == i]['Age'].dropna().mean(), inplace=True)\n",
    "\n",
    "# trainも同様に\n",
    "for t in [test]: \n",
    "        t['HonorificTitle'] = test.Name.str.extract(' ([A-Za-z]+).', expand=False) \n",
    "for t in [test]: \n",
    "        t['HonorificTitle'] = test['HonorificTitle'].replace(['Lady', 'Countess','Capt', 'Col','Don', 'Dr', 'Major', 'Rev', 'Sir', 'Jonkheer', 'Dona'], 'Rare')\n",
    "        t['HonorificTitle'] = test['HonorificTitle'].replace('Mlle', 'Miss')\n",
    "        t['HonorificTitle'] = test['HonorificTitle'].replace('Ms', 'Miss')\n",
    "        t['HonorificTitle'] = test['HonorificTitle'].replace('Mme', 'Mrs')\n",
    "        del test['Name']\n",
    "HonorificTitle_mapping = {\"Mr\": 1, \"Miss\": 2, \"Mrs\": 3, \"Master\": 4, \"Rare\": 5} \n",
    "for t in [test]: \n",
    "        t['HonorificTitle'] = test['HonorificTitle'].map(HonorificTitle_mapping) \n",
    "        t['HonorificTitle'] = test['HonorificTitle'].fillna(0)\n",
    "\n",
    "for i in range(0,6):\n",
    "    test['Age'].fillna(test[test['HonorificTitle'] == i]['Age'].mean(), inplace=True)\n",
    "\n",
    "# 子供であるかどうかの特徴の追加.\n",
    "for t in [train]:\n",
    "    t['IsChild'] = 0\n",
    "    t.loc[train['Age'] < 18, 'IsChild'] = 1\n",
    "\n",
    "for t in [test]:\n",
    "    t['IsChild'] = 0\n",
    "    t.loc[test['Age'] < 18, 'IsChild'] = 1\n",
    "\n",
    "test[\"Fare\"].fillna(train.Fare.mean(), inplace=True) # 1つだけ欠損しているため.\n",
    "\n",
    "# 情報の確認用.\n",
    "# print(train.head(10))\n",
    "train.info()\n",
    "# test.info()\n",
    "\n",
    "train_data = train.values\n",
    "X_train = train_data[:, 2:] # Pclass以降の変数.訓練データ.\n",
    "Y_train  = train_data[:, 1]  # 正解データ\n",
    "\n",
    "test_data = test.values\n",
    "X_test = test_data[:, 1:] # Pclass以降の変数. テストデータ."
   ]
  },
  {
   "cell_type": "markdown",
   "metadata": {},
   "source": [
    "### 学習方法\n",
    "今回はsklearnライブラリのLinearRegression(線形回帰)を用いて学習させる.\n",
    "\n",
    "定義は以下の通りである. \n",
    "\n",
    "$$\n",
    "y = w_0 x_0 + w_1 x_1 + ... + w_m x_m = \\sum_{i=0}^{m}w_i x_i\n",
    "$$\n",
    "\n",
    "また, テスト方法として今回はkaggleに実際にcsvファイルを送信し帰ってくる結果を評価とすることにした."
   ]
  },
  {
   "cell_type": "code",
   "execution_count": 2,
   "metadata": {},
   "outputs": [],
   "source": [
    "from sklearn.linear_model import LinearRegression # 線形回帰\n",
    "\n",
    "lr = LinearRegression()\n",
    "lr.fit(X_train,Y_train) # 学習\n",
    "Y_pred = lr.predict(X_test) # 予測"
   ]
  },
  {
   "cell_type": "code",
   "execution_count": 3,
   "metadata": {},
   "outputs": [],
   "source": [
    "import csv\n",
    "with open(\"predict_result_data.csv\", \"w\") as f:\n",
    "    writer = csv.writer(f, lineterminator='\\n')\n",
    "    writer.writerow([\"PassengerId\", \"Survived\"])\n",
    "    for pid, survived in zip(test_data[:,0].astype(int), Y_pred.astype(int)):\n",
    "        writer.writerow([pid, survived])"
   ]
  },
  {
   "attachments": {
    "%E3%82%B9%E3%82%AF%E3%83%AA%E3%83%BC%E3%83%B3%E3%82%B7%E3%83%A7%E3%83%83%E3%83%88%202019-11-28%2011.12.46.png": {
     "image/png": "[encoded data removed]"
    }
   },
   "cell_type": "markdown",
   "metadata": {},
   "source": [
    "## 結果\n",
    "\n",
    "結果として, 線形回帰では0.64593が最高値であった.\n",
    "\n",
    "![%E3%82%B9%E3%82%AF%E3%83%AA%E3%83%BC%E3%83%B3%E3%82%B7%E3%83%A7%E3%83%83%E3%83%88%202019-11-28%2011.12.46.png](attachment:%E3%82%B9%E3%82%AF%E3%83%AA%E3%83%BC%E3%83%B3%E3%82%B7%E3%83%A7%E3%83%83%E3%83%88%202019-11-28%2011.12.46.png)"
   ]
  },
  {
   "cell_type": "markdown",
   "metadata": {},
   "source": [
    "## 考察\n",
    "\n",
    "この節では, 今回の手法の考察を行う.\n",
    "\n",
    "### 学習方法について\n",
    "\n",
    "今回の学習方法は線形回帰を用いたが, ロジスティック回帰を用いるとどうなるのか検証してみた."
   ]
  },
  {
   "cell_type": "code",
   "execution_count": 4,
   "metadata": {},
   "outputs": [],
   "source": [
    "from sklearn.linear_model import LogisticRegression\n",
    "# warningが出るのでそれを表示させないためのもの.\n",
    "import warnings\n",
    "warnings.filterwarnings('ignore')\n",
    "lr =LogisticRegression()\n",
    "lr.fit(X_train,Y_train) # 学習\n",
    "Y_pred = lr.predict(X_test) # 予測"
   ]
  },
  {
   "cell_type": "code",
   "execution_count": 5,
   "metadata": {},
   "outputs": [],
   "source": [
    "import csv\n",
    "with open(\"logistic_predict_result_data.csv\", \"w\") as f:\n",
    "    writer = csv.writer(f, lineterminator='\\n')\n",
    "    writer.writerow([\"PassengerId\", \"Survived\"])\n",
    "    for pid, survived in zip(test_data[:,0].astype(int), Y_pred.astype(int)):\n",
    "        writer.writerow([pid, survived])"
   ]
  },
  {
   "attachments": {
    "%E3%82%B9%E3%82%AF%E3%83%AA%E3%83%BC%E3%83%B3%E3%82%B7%E3%83%A7%E3%83%83%E3%83%88%202019-11-28%2011.32.24.png": {
     "image/png": "[encoded data removed]"
    }
   },
   "cell_type": "markdown",
   "metadata": {},
   "source": [
    "結果は以下のようになった.\n",
    "\n",
    "![%E3%82%B9%E3%82%AF%E3%83%AA%E3%83%BC%E3%83%B3%E3%82%B7%E3%83%A7%E3%83%83%E3%83%88%202019-11-28%2011.32.24.png](attachment:%E3%82%B9%E3%82%AF%E3%83%AA%E3%83%BC%E3%83%B3%E3%82%B7%E3%83%A7%E3%83%83%E3%83%88%202019-11-28%2011.32.24.png)\n",
    "\n"
   ]
  },
  {
   "cell_type": "markdown",
   "metadata": {},
   "source": [
    "今回, 特に線形回帰でもロジスティック回帰でも特別なパラメタの設定はしていないので, 今回のデータセットにおいてはロジスティック回帰が線形回帰より適切な手法だったと考えられる."
   ]
  },
  {
   "cell_type": "markdown",
   "metadata": {},
   "source": [
    "### データについて\n",
    "\n",
    "では, 次はデータについて考察する.\n",
    "今回, 合計12個の特徴を用いたが, それぞれのデータについて学習に関係がありそうなものを考察する.\n",
    "\n",
    "#### 性別\n",
    "性別による違いを見てみる.\n",
    "\n",
    "まずは男女の数の違いから."
   ]
  },
  {
   "cell_type": "code",
   "execution_count": 7,
   "metadata": {},
   "outputs": [
    {
     "data": {
      "text/plain": [
       "<matplotlib.axes._subplots.AxesSubplot at 0x7f6a7d6ea940>"
      ]
     },
     "execution_count": 7,
     "metadata": {},
     "output_type": "execute_result"
    },
    {
     "data": {
      "image/png": "[encoded data removed]",
      "text/plain": [
       "<Figure size 432x288 with 1 Axes>"
      ]
     },
     "metadata": {
      "needs_background": "light"
     },
     "output_type": "display_data"
    }
   ],
   "source": [
    "%matplotlib inline\n",
    "\n",
    "import matplotlib.pyplot as plt\n",
    "import seaborn as sns\n",
    "\n",
    "sns.countplot(x=\"Sex\", data=train)"
   ]
  },
  {
   "cell_type": "markdown",
   "metadata": {},
   "source": [
    "この結果から, 男性の方が多いのがわかる.\n",
    "\n",
    "次に男女別の生存率を見る."
   ]
  },
  {
   "cell_type": "code",
   "execution_count": 6,
   "metadata": {},
   "outputs": [
    {
     "data": {
      "image/png": "[encoded data removed]",
      "text/plain": [
       "<Figure size 432x432 with 1 Axes>"
      ]
     },
     "metadata": {
      "needs_background": "light"
     },
     "output_type": "display_data"
    }
   ],
   "source": [
    "g = sns.factorplot(x=\"Sex\", y=\"Survived\", data=train, size=6, kind=\"bar\", palette=\"muted\")\n",
    "g.despine(left=True)\n",
    "g = g.set_ylabels(\"survival probability\")"
   ]
  },
  {
   "cell_type": "markdown",
   "metadata": {},
   "source": [
    "このデータから女性の生存率が高いことが分かる.\n",
    "\n",
    "人数は男性の方が多かったが, 女性の生存率が7割を超えているのは優先的に救助されたのだろう.\n",
    "\n"
   ]
  },
  {
   "cell_type": "markdown",
   "metadata": {},
   "source": [
    "#### 等級\n",
    "\n",
    "次に学習に関係がありそうな等級と性別を合わせたグラフを確認する."
   ]
  },
  {
   "cell_type": "code",
   "execution_count": 10,
   "metadata": {},
   "outputs": [
    {
     "data": {
      "image/png": "[encoded data removed]",
      "text/plain": [
       "<Figure size 474.375x432 with 1 Axes>"
      ]
     },
     "metadata": {
      "needs_background": "light"
     },
     "output_type": "display_data"
    }
   ],
   "source": [
    "g = sns.factorplot(x=\"Pclass\", y=\"Survived\", hue=\"Sex\", data=train, size=6, kind=\"bar\", palette=\"muted\")\n",
    "g.despine(left=True)\n",
    "g = g.set_ylabels(\"survival probability\")"
   ]
  },
  {
   "cell_type": "markdown",
   "metadata": {},
   "source": [
    "先ほどの結果とも併せてみると, 階級が高い女性が優先的に救助されていたことがわかる."
   ]
  },
  {
   "cell_type": "markdown",
   "metadata": {},
   "source": [
    "#### 家族の人数\n",
    "\n",
    "今までのものからさらに家族の人数を付け加えたデータを見る."
   ]
  },
  {
   "cell_type": "code",
   "execution_count": 11,
   "metadata": {},
   "outputs": [
    {
     "data": {
      "text/plain": [
       "<matplotlib.axes._subplots.AxesSubplot at 0x7f6a7d49fe48>"
      ]
     },
     "execution_count": 11,
     "metadata": {},
     "output_type": "execute_result"
    },
    {
     "data": {
      "image/png": "[encoded data removed]",
      "text/plain": [
       "<Figure size 432x288 with 1 Axes>"
      ]
     },
     "metadata": {
      "needs_background": "light"
     },
     "output_type": "display_data"
    }
   ],
   "source": [
    "sns.countplot(x='FamilySize', data=train, hue=\"Survived\")"
   ]
  },
  {
   "cell_type": "markdown",
   "metadata": {},
   "source": [
    "これからタイタニックに搭乗時一人だけで乗った人が圧倒的に多かったようだ."
   ]
  },
  {
   "cell_type": "code",
   "execution_count": 12,
   "metadata": {},
   "outputs": [
    {
     "data": {
      "text/plain": [
       "<matplotlib.axes._subplots.AxesSubplot at 0x7f6a7d3aa0b8>"
      ]
     },
     "execution_count": 12,
     "metadata": {},
     "output_type": "execute_result"
    },
    {
     "data": {
      "image/png": "[encoded data removed]",
      "text/plain": [
       "<Figure size 432x288 with 1 Axes>"
      ]
     },
     "metadata": {
      "needs_background": "light"
     },
     "output_type": "display_data"
    }
   ],
   "source": [
    "sns.countplot(x=\"FamilySize\", data=train, hue=\"Pclass\")"
   ]
  },
  {
   "cell_type": "markdown",
   "metadata": {},
   "source": [
    "これから一人で乗った人は３等に乗っていたことが伺える.\n",
    "\n",
    "次に以下のグラフを見る."
   ]
  },
  {
   "cell_type": "code",
   "execution_count": 22,
   "metadata": {},
   "outputs": [
    {
     "data": {
      "image/png": "[encoded data removed]",
      "text/plain": [
       "<Figure size 474.375x432 with 1 Axes>"
      ]
     },
     "metadata": {
      "needs_background": "light"
     },
     "output_type": "display_data"
    }
   ],
   "source": [
    "g = sns.factorplot(x=\"FamilySize\", y=\"Survived\", hue=\"Pclass\", data=train, size=6, kind=\"bar\", palette=\"muted\")\n",
    "g.despine(left=True)\n",
    "g = g.set_ylabels(\"survival probability\")"
   ]
  },
  {
   "cell_type": "markdown",
   "metadata": {},
   "source": [
    "やはり階級が上のものから救出されているようだが, 以外にも独り身の人の生存率が悪かった.\n",
    "\n",
    "これは, おそらく独り身の人は先ほども見たとおりに３級の人が多く救出が後回しになったと考えられる.\n",
    "\n",
    "\n"
   ]
  },
  {
   "cell_type": "markdown",
   "metadata": {},
   "source": [
    "## 最後に\n",
    "\n",
    "今回のデータや結果から, 当時乗った人の階級や人数がその後の救出されたか, されてないかに大きくかかわっていて, もう少しこの辺りに何かしらの特徴を見いだせたらもう少し精度があがるだろうが今回は思いつかなかった."
   ]
  }
 ],
 "metadata": {
  "kernelspec": {
   "display_name": "Python 3",
   "language": "python",
   "name": "python3"
  },
  "language_info": {
   "codemirror_mode": {
    "name": "ipython",
    "version": 3
   },
   "file_extension": ".py",
   "mimetype": "text/x-python",
   "name": "python",
   "nbconvert_exporter": "python",
   "pygments_lexer": "ipython3",
   "version": "3.7.3"
  }
 },
 "nbformat": 4,
 "nbformat_minor": 2
}
